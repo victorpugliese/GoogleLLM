{
  "nbformat": 4,
  "nbformat_minor": 0,
  "metadata": {
    "colab": {
      "provenance": []
    },
    "kernelspec": {
      "name": "python3",
      "display_name": "Python 3"
    },
    "language_info": {
      "name": "python"
    }
  },
  "cells": [
    {
      "cell_type": "markdown",
      "source": [
        "## Pré-requisitos\n",
        "\n",
        "Você pode executar este guia de início rápido no [Google Colab](https://colab.research.google.com/github/google/generative-ai-docs/blob/main/site/en/tutorials/python_quickstart.ipynb), que executa este notebook diretamente no navegador e não requer configuração adicional do ambiente.\n",
        "\n",
        "Como alternativa, para concluir este início rápido localmente, certifique-se de que seu ambiente de desenvolvimento atenda aos seguintes requisitos:\n",
        "\n",
        "- Python 3.9+\n",
        "- Uma instalação do `jupyter` para rodar o notebook."
      ],
      "metadata": {
        "id": "Tc0V1sgA1nIy"
      }
    },
    {
      "cell_type": "markdown",
      "source": [
        "### Instale o SDK do Python\n",
        "\n",
        "O SDK Python para a API Gemini está contido no pacote [`google-generativeai`](https://pypi.org/project/google-generativeai/). Instale a dependência usando pip:"
      ],
      "metadata": {
        "id": "-60CDHlA1phi"
      }
    },
    {
      "cell_type": "code",
      "source": [
        "!pip install -q -U google-generativeai"
      ],
      "metadata": {
        "colab": {
          "base_uri": "https://localhost:8080/"
        },
        "id": "w3pLn5xX1v_1",
        "outputId": "36c028ae-0677-44ec-ecb7-01cd0705c692"
      },
      "execution_count": 2,
      "outputs": [
        {
          "output_type": "stream",
          "name": "stdout",
          "text": [
            "\u001b[?25l     \u001b[90m━━━━━━━━━━━━━━━━━━━━━━━━━━━━━━━━━━━━━━━━\u001b[0m \u001b[32m0.0/137.4 kB\u001b[0m \u001b[31m?\u001b[0m eta \u001b[36m-:--:--\u001b[0m\r\u001b[2K     \u001b[91m━━━━━━━━━━━\u001b[0m\u001b[91m╸\u001b[0m\u001b[90m━━━━━━━━━━━━━━━━━━━━━━━━━━━━\u001b[0m \u001b[32m41.0/137.4 kB\u001b[0m \u001b[31m1.0 MB/s\u001b[0m eta \u001b[36m0:00:01\u001b[0m\r\u001b[2K     \u001b[90m━━━━━━━━━━━━━━━━━━━━━━━━━━━━━━━━━━━━━━━━\u001b[0m \u001b[32m137.4/137.4 kB\u001b[0m \u001b[31m2.1 MB/s\u001b[0m eta \u001b[36m0:00:00\u001b[0m\n",
            "\u001b[?25h"
          ]
        }
      ]
    },
    {
      "cell_type": "markdown",
      "source": [
        "### Importar pacotes"
      ],
      "metadata": {
        "id": "mdb6sMMy11fc"
      }
    },
    {
      "cell_type": "code",
      "source": [
        "import pathlib\n",
        "import textwrap\n",
        "\n",
        "import google.generativeai as genai"
      ],
      "metadata": {
        "id": "ITAg7nOJ2K5G"
      },
      "execution_count": 3,
      "outputs": []
    },
    {
      "cell_type": "code",
      "source": [
        "from IPython.display import display\n",
        "from IPython.display import Markdown\n",
        "\n",
        "\n",
        "def to_markdown(text):\n",
        "  text = text.replace('•', '  *')\n",
        "  return Markdown(textwrap.indent(text, '> ', predicate=lambda _: True))"
      ],
      "metadata": {
        "id": "mUNQ26Cb2JQ5"
      },
      "execution_count": 4,
      "outputs": []
    },
    {
      "cell_type": "code",
      "source": [
        "# Used to securely store your API key\n",
        "from google.colab import userdata"
      ],
      "metadata": {
        "id": "knsfurBc2HSp"
      },
      "execution_count": 5,
      "outputs": []
    },
    {
      "cell_type": "markdown",
      "source": [
        "### Configure sua chave API\n",
        "\n",
        "Antes de poder usar a API Gemini, você deve primeiro obter uma chave de API. Se ainda não tiver uma, crie uma chave com um clique no Google AI Studio.\n",
        "\n",
        "<a class=\"button button-primary\" href=\"https://makersuite.google.com/app/apikey\" target=\"_blank\" rel=\"noopener noreferrer\">Obtenha uma chave de API</a>"
      ],
      "metadata": {
        "id": "dA6qixCy2S6x"
      }
    },
    {
      "cell_type": "markdown",
      "source": [
        "No Colab, adicione a chave do gerenciador de segredos em “🔑” no painel esquerdo. Dê a ele o nome `GOOGLE_API_KEY`."
      ],
      "metadata": {
        "id": "_p5hXtJK2XsK"
      }
    },
    {
      "cell_type": "markdown",
      "source": [
        "Depois de obter a chave da API, passe-a para o SDK. Você pode fazer isso de duas maneiras:\n",
        "\n",
        "* Coloque a chave na variável de ambiente `GOOGLE_API_KEY` (o SDK irá buscá-la automaticamente a partir daí).\n",
        "* Passe a chave para `genai.configure(api_key=...)`"
      ],
      "metadata": {
        "id": "Cd6de7eL2YrY"
      }
    },
    {
      "cell_type": "code",
      "source": [
        "import os\n",
        "# Or use `os.getenv('GOOGLE_API_KEY')` to fetch an environment variable.\n",
        "GOOGLE_API_KEY=userdata.get('GOOGLE_API_KEY')\n",
        "\n",
        "genai.configure(api_key=GOOGLE_API_KEY)"
      ],
      "metadata": {
        "id": "WnHl1dWV2fFd"
      },
      "execution_count": 6,
      "outputs": []
    },
    {
      "cell_type": "markdown",
      "source": [
        "## Prompt engineering best practices"
      ],
      "metadata": {
        "id": "wRHoE-i91Slr"
      }
    },
    {
      "cell_type": "markdown",
      "source": [
        "A engenharia de prompts trata de como projetar seus prompts para que a resposta seja o que você realmente esperava ver.\n",
        "\n",
        "A ideia de usar prompts \"pouco sofisticados\" é minimizar o ruído em seu prompt para reduzir a possibilidade de o LLM interpretar mal a intenção do prompt. Abaixo estão algumas diretrizes sobre como projetar prompts \"pouco sofisticados\".\n",
        "\n",
        "Nesta seção, você abordará as seguintes práticas recomendadas quando a engenharia solicitar:\n",
        "\n",
        "* Ser conciso\n",
        "* Seja específico e bem definido\n",
        "* Peça uma tarefa de cada vez\n",
        "* Melhore a qualidade da resposta incluindo exemplos\n",
        "* Transforme tarefas generativas em tarefas de classificação para melhorar a segurança"
      ],
      "metadata": {
        "id": "C97e3RjC1XLy"
      }
    },
    {
      "cell_type": "code",
      "source": [
        "model = genai.GenerativeModel('gemini-pro')"
      ],
      "metadata": {
        "id": "RuwCaWU72srt"
      },
      "execution_count": 7,
      "outputs": []
    },
    {
      "cell_type": "markdown",
      "source": [
        "### Ser conciso"
      ],
      "metadata": {
        "id": "CpbFn9FH2lGN"
      }
    },
    {
      "cell_type": "markdown",
      "source": [
        "🛑 Not recommended. The prompt below is unnecessarily verbose."
      ],
      "metadata": {
        "id": "j1TxGQxU2nC-"
      }
    },
    {
      "cell_type": "code",
      "execution_count": 7,
      "metadata": {
        "colab": {
          "base_uri": "https://localhost:8080/",
          "height": 483
        },
        "id": "XEdPph8B1MHX",
        "outputId": "d3eae625-52d3-4fb2-a8d1-9ec37e0bb976"
      },
      "outputs": [
        {
          "output_type": "execute_result",
          "data": {
            "text/plain": [
              "<IPython.core.display.Markdown object>"
            ],
            "text/markdown": "> **Dapperly Dried Delights**\n> \n> **Eternal Efflorescence**\n> \n> **Flourishing Flora Everlasting**\n> \n> **Immortalized Blooms & Bouquets**\n> \n> **Perennial Petals**\n> \n> **Preserved Posy Paradise**\n> \n> **Rosy Relics**\n> \n> **Rustic & Resilient Blooms**\n> \n> **Sheltered Serenity**\n> \n> **Timeless Treasures**\n> \n> **The Dried Flower Emporium**\n> \n> **Bouquets with a Breath of Time**\n> \n> **Blooms that Last an Eternity**\n> \n> **Wonders of the Wilted**\n> \n> **The Everlasting Bloom**\n> \n> **Fragrant Fossils**\n> \n> **Floral Echoes**\n> \n> **Memories in Bloom**\n> \n> **The Enchanted Garden Timeless**"
          },
          "metadata": {},
          "execution_count": 7
        }
      ],
      "source": [
        "prompt = \"What do you think could be a good name for a flower shop that specializes in selling bouquets of dried flowers more than fresh flowers? Thank you!\"\n",
        "to_markdown(model.generate_content(prompt).text)"
      ]
    },
    {
      "cell_type": "markdown",
      "source": [
        "✅ Recommended. The prompt below is to the point and concise."
      ],
      "metadata": {
        "id": "KZOUV75z3Qp5"
      }
    },
    {
      "cell_type": "code",
      "source": [
        "prompt = \"Suggest a name for a flower shop that sells bouquets of dried flowers\"\n",
        "to_markdown(model.generate_content(prompt).text)"
      ],
      "metadata": {
        "colab": {
          "base_uri": "https://localhost:8080/",
          "height": 132
        },
        "id": "uHV0apgY23fo",
        "outputId": "afc65011-d7fd-4712-feb1-4e1e48a27040"
      },
      "execution_count": 8,
      "outputs": [
        {
          "output_type": "execute_result",
          "data": {
            "text/plain": [
              "<IPython.core.display.Markdown object>"
            ],
            "text/markdown": "> * Everlasting Blooms\n> * Eternal Flora\n> * Botanical Evergreens\n> * Bouquets of Time\n> * Dried Delights"
          },
          "metadata": {},
          "execution_count": 8
        }
      ]
    },
    {
      "cell_type": "markdown",
      "source": [
        "### Seja específico e bem definido"
      ],
      "metadata": {
        "id": "Jdgh53fe4j34"
      }
    },
    {
      "cell_type": "markdown",
      "source": [
        "Suponha que você queira debater maneiras criativas de descrever a Terra."
      ],
      "metadata": {
        "id": "MLvCvm3b4mYW"
      }
    },
    {
      "cell_type": "markdown",
      "source": [
        "🛑 Not recommended. The prompt below is too generic."
      ],
      "metadata": {
        "id": "AuxJ1si_4oUx"
      }
    },
    {
      "cell_type": "code",
      "source": [
        "prompt = \"Tell me about Earth\"\n",
        "to_markdown(model.generate_content(prompt).text)"
      ],
      "metadata": {
        "colab": {
          "base_uri": "https://localhost:8080/",
          "height": 865
        },
        "id": "szFjxkBZ4qei",
        "outputId": "af228c8d-4817-4144-eec9-da5035af7f3f"
      },
      "execution_count": 9,
      "outputs": [
        {
          "output_type": "execute_result",
          "data": {
            "text/plain": [
              "<IPython.core.display.Markdown object>"
            ],
            "text/markdown": "> **The Earth**\n> \n> **Basic Information:**\n> \n> * **Type:** Terrestrial planet\n> * **Position:** Third planet from the Sun\n> * **Diameter:** 12,742 kilometers (7,917 miles)\n> * **Mass:** 5.97 x 10^24 kilograms (1.32 x 10^25 pounds)\n> * **Gravity:** 9.81 m/s² (32.2 ft/s²)\n> \n> **Structure and Composition:**\n> \n> * **Core:** Solid iron and nickel core\n> * **Mantle:** Semi-solid layer surrounding the core\n> * **Crust:** Thin outer layer containing continents and oceans\n> \n> **Atmosphere:**\n> \n> * **Composition:** 78% nitrogen, 21% oxygen, trace amounts of other gases\n> * **Layers:** Troposphere, stratosphere, mesosphere, thermosphere\n> * **Importance:** Provides oxygen for life, regulates temperature, protects from radiation\n> \n> **Hydrosphere:**\n> \n> * **Oceans:** Cover 71% of Earth's surface\n> * **Freshwater:** Found in rivers, lakes, glaciers, and groundwater\n> * **Importance:** Essential for life, regulates climate\n> \n> **Biosphere:**\n> \n> * **Definition:** The sphere of life on Earth\n> * **Habitats:** Diverse ecosystems found in oceans, land, and atmosphere\n> * **Importance:** Supports an estimated 8.7 million species\n> \n> **Plate Tectonics:**\n> \n> * **Tectonic plates:** Massive sections of the crust that move across the Earth's surface\n> * **Importance:** Creates mountains, earthquakes, and volcanoes\n> * **Continental drift:** The movement of continents over geological time\n> \n> **Unique Characteristics:**\n> \n> * **Liquid Water:** Earth is the only known planet with liquid water on its surface.\n> * **Moon:** Earth has one natural satellite, the Moon.\n> * **Magnetic Field:** Earth's magnetic field protects it from harmful solar radiation.\n> * **Abundant Oxygen:** Earth's atmosphere has a high concentration of oxygen, which is essential for complex life.\n> * **Water Cycle:** The continuous movement of water between the Earth's surface and atmosphere regulates the planet's temperature and climate.\n> \n> **Importance for Life:**\n> \n> * **Habitable Zone:** Earth is located in the Sun's habitable zone, allowing for the presence of liquid water and life as we know it.\n> * **Diverse Ecosystems:** Earth supports a wide variety of ecosystems, providing countless niches for living organisms.\n> * **Resources:** Earth provides resources such as food, water, and materials that are essential for human survival.\n> \n> **Climate Change:**\n> \n> * **Anthropogenic Climate Change:** Human activities are currently causing the Earth's climate to change at an unprecedented rate.\n> * **Impact:** Climate change is leading to rising sea levels, extreme weather events, and other environmental challenges that threaten human society and the planet's biodiversity."
          },
          "metadata": {},
          "execution_count": 9
        }
      ]
    },
    {
      "cell_type": "markdown",
      "source": [
        "✅ Recommended. The prompt below is specific and well-defined."
      ],
      "metadata": {
        "id": "WswOUZZA4p5O"
      }
    },
    {
      "cell_type": "code",
      "source": [
        "prompt = \"Generate a list of ways that makes Earth unique compared to other planets\"\n",
        "to_markdown(model.generate_content(prompt).text)"
      ],
      "metadata": {
        "colab": {
          "base_uri": "https://localhost:8080/",
          "height": 680
        },
        "id": "f1jiRCqt5MLQ",
        "outputId": "2ad4c078-5b5a-4b18-c1da-9f94890750af"
      },
      "execution_count": 10,
      "outputs": [
        {
          "output_type": "execute_result",
          "data": {
            "text/plain": [
              "<IPython.core.display.Markdown object>"
            ],
            "text/markdown": "> **Life and Biosphere:**\n> \n> * Earth is the only known planet to harbor life in abundance.\n> * It possesses a diverse and complex biosphere with a wide range of species and ecosystems.\n> \n> **Water:**\n> \n> * Earth is the only planet with abundant liquid water on its surface.\n> * Water covers about 71% of the Earth's surface and plays a crucial role in life processes.\n> \n> **Plate Tectonics:**\n> \n> * Earth is the only planet with active plate tectonics.\n> * This process creates and recycles the Earth's crust, leading to the formation of mountains, volcanoes, and other geological features.\n> \n> **Atmosphere:**\n> \n> * Earth's atmosphere is relatively thin but rich in oxygen, essential for life.\n> * It regulates temperature, protects from harmful radiation, and supports the water cycle.\n> \n> **Magnetic Field:**\n> \n> * Earth possesses a strong magnetic field that shields the planet from harmful solar radiation.\n> * This magnetic field also influences the Earth's navigation and weather systems.\n> \n> **Orbital Characteristics:**\n> \n> * Earth orbits the Sun within the habitable zone, allowing for liquid water to exist on its surface.\n> * Earth's axis is tilted, resulting in distinct seasons and a wide range of climate zones.\n> \n> **Moon:**\n> \n> * Earth is the only planet with a large natural satellite, the Moon.\n> * The Moon's gravitational pull stabilizes Earth's rotation and influences tides.\n> \n> **Size and Structure:**\n> \n> * Earth is a relatively small, rocky planet with a solid core, mantle, and crust.\n> * Its moderate size and density provide a habitable environment for life.\n> \n> **Evolutionary History:**\n> \n> * Earth has a long and complex evolutionary history, spanning about 4.5 billion years.\n> * This history has shaped the planet's current characteristics and its potential for future life.\n> \n> **Human Civilization:**\n> \n> * Earth is the only planet known to support human civilization.\n> * Human activities have significantly altered the planet's environment and continue to influence its future."
          },
          "metadata": {},
          "execution_count": 10
        }
      ]
    },
    {
      "cell_type": "markdown",
      "source": [
        "### Peça uma tarefa de cada vez"
      ],
      "metadata": {
        "id": "fP8PdN1lEmlW"
      }
    },
    {
      "cell_type": "code",
      "source": [
        "prompt = \"What's the best method of boiling water and why is the sky blue?\"\n",
        "to_markdown(model.generate_content(prompt).text)"
      ],
      "metadata": {
        "colab": {
          "base_uri": "https://localhost:8080/",
          "height": 335
        },
        "id": "aWbg8yw_5c47",
        "outputId": "98a14374-8b08-4888-98c0-ec7237deba35"
      },
      "execution_count": 11,
      "outputs": [
        {
          "output_type": "execute_result",
          "data": {
            "text/plain": [
              "<IPython.core.display.Markdown object>"
            ],
            "text/markdown": "> **Best Method of Boiling Water:**\n> \n> The most efficient and safe method of boiling water is to use an electric kettle.\n> \n> * **Fast:** Electric kettles heat water rapidly, boiling a cup of water in around 2-3 minutes.\n> * **Efficient:** Electric kettles only heat the water, not the surrounding air, making them more energy-efficient than other methods.\n> * **Safe:** Electric kettles have automatic shut-off features that prevent overheating or dry boiling, reducing the risk of accidents.\n> * **Convenient:** Electric kettles are portable and easy to use, making them suitable for various settings.\n> \n> **Why the Sky is Blue:**\n> \n> The sky appears blue due to a phenomenon called Rayleigh scattering.\n> \n> * **Scattering:** Sunlight consists of a range of wavelengths, including blue, green, yellow, red, and violet. As sunlight passes through the atmosphere, the shorter wavelengths (blue and violet) are scattered more efficiently by molecules in the air.\n> * **Blue dominance:** Blue and violet light are scattered in all directions. However, the human eye is most sensitive to blue light, so we perceive the sky as predominantly blue.\n> * **Sunset and sunrise:** During sunset and sunrise, sunlight has to travel through more of the atmosphere to reach our eyes. In this thicker layer of atmosphere, more blue and violet light is scattered away, leaving mainly longer wavelengths (red and orange) to reach our eyes, resulting in the colorful hues of the sky."
          },
          "metadata": {},
          "execution_count": 11
        }
      ]
    },
    {
      "cell_type": "code",
      "source": [
        "prompt = \"What's the best method of boiling water?\"\n",
        "to_markdown(model.generate_content(prompt).text)"
      ],
      "metadata": {
        "colab": {
          "base_uri": "https://localhost:8080/",
          "height": 464
        },
        "id": "eAfTKOu3Ewb4",
        "outputId": "b4bd0706-8bb7-4c57-f79f-54376b8a6ef9"
      },
      "execution_count": 12,
      "outputs": [
        {
          "output_type": "execute_result",
          "data": {
            "text/plain": [
              "<IPython.core.display.Markdown object>"
            ],
            "text/markdown": "> **For speed and efficiency:**\n> \n> * **Electric kettle:**\n>     * Heats water directly and quickly.\n>     * Automatic shut-off feature ensures safety.\n> \n> **For energy conservation:**\n> \n> * **Stovetop kettle:**\n>     * Uses less energy than an electric kettle when heating small amounts of water.\n>     * Place a lid on the kettle to trap heat and reduce evaporation.\n> * **Microwave:**\n>     * Can heat water faster than a stovetop but is less energy-efficient overall.\n>     * Use a microwave-safe container and do not overheat to prevent boiling over.\n> \n> **For larger quantities:**\n> \n> * **Large stockpot on the stovetop:**\n>     * Can boil large amounts of water quickly and efficiently.\n>     * Use a pot with a wide bottom to distribute heat evenly.\n> \n> **Additional tips:**\n> \n> * **Fill the kettle or pot to the maximum fill line:** This promotes rapid boiling.\n> * **Use clean water:** Impurities can slow down boiling.\n> * **Avoid over-boiling:** Once the water boils, remove it from the heat immediately to prevent unnecessary energy consumption.\n> * **Consider an induction cooktop:** Induction burners heat the water directly, resulting in faster boiling times and energy savings."
          },
          "metadata": {},
          "execution_count": 12
        }
      ]
    },
    {
      "cell_type": "code",
      "source": [
        "prompt = \"Why is the sky blue?\"\n",
        "to_markdown(model.generate_content(prompt).text)"
      ],
      "metadata": {
        "colab": {
          "base_uri": "https://localhost:8080/",
          "height": 132
        },
        "id": "UVA1sVHEE2do",
        "outputId": "5070aa81-bed7-4050-9446-ec6cdda52711"
      },
      "execution_count": 13,
      "outputs": [
        {
          "output_type": "execute_result",
          "data": {
            "text/plain": [
              "<IPython.core.display.Markdown object>"
            ],
            "text/markdown": "> The sky appears blue due to a phenomenon known as Rayleigh scattering. When sunlight enters the Earth's atmosphere, it encounters molecules of nitrogen and oxygen. These molecules are much smaller than the wavelength of visible light, so they scatter the light in all directions. However, the scattering is stronger for shorter wavelengths (blue light) than for longer wavelengths (red light). This is because the smaller molecules are more efficient at scattering shorter wavelengths. As a result, the blue light is scattered more in all directions, and it reaches our eyes from all over the sky. This is why the sky appears blue."
          },
          "metadata": {},
          "execution_count": 13
        }
      ]
    },
    {
      "cell_type": "markdown",
      "source": [
        "### Cuidado com alucinações"
      ],
      "metadata": {
        "id": "twG9VVizFhFB"
      }
    },
    {
      "cell_type": "markdown",
      "source": [
        "Embora os LLMs tenham sido treinados com uma grande quantidade de dados, eles podem gerar textos contendo afirmações não fundamentadas na verdade ou na realidade; essas respostas do LLM são frequentemente chamadas de \"alucinações\" devido às suas capacidades limitadas de memorização. Observe que simplesmente solicitar que o LLM forneça uma citação não é uma solução para esse problema, pois há casos de LLMs que fornecem citações falsas ou imprecisas. Lidar com alucinações é um desafio fundamental dos LLMs e de uma área de pesquisa em andamento, por isso é importante estar ciente de que os LLMs podem parecer fornecer afirmações confiantes e que parecem corretas, mas que na verdade são incorretas.\n",
        "\n",
        "Observe que se você pretende usar LLMs para casos de uso criativos, alucinar pode ser bastante útil."
      ],
      "metadata": {
        "id": "mLPNTqx_FlbI"
      }
    },
    {
      "cell_type": "markdown",
      "source": [
        "Tente o prompt como o abaixo repetidamente. Você pode notar que às vezes ele dirá com segurança, mas de forma imprecisa, \"O primeiro elefante a visitar a lua foi Luna\"."
      ],
      "metadata": {
        "id": "etBxbhQWFxhk"
      }
    },
    {
      "cell_type": "code",
      "source": [
        "prompt = \"Which cat speaks English?\"\n",
        "to_markdown(model.generate_content(prompt).text)"
      ],
      "metadata": {
        "colab": {
          "base_uri": "https://localhost:8080/",
          "height": 62
        },
        "id": "Nd8zS_rAFhjZ",
        "outputId": "3d3fbb7f-a438-4232-b13d-14943a109890"
      },
      "execution_count": 27,
      "outputs": [
        {
          "output_type": "execute_result",
          "data": {
            "text/plain": [
              "<IPython.core.display.Markdown object>"
            ],
            "text/markdown": "> Hello Kitty"
          },
          "metadata": {},
          "execution_count": 27
        }
      ]
    },
    {
      "cell_type": "code",
      "source": [
        "prompt = \"Can cats speak English?\"\n",
        "to_markdown(model.generate_content(prompt).text)"
      ],
      "metadata": {
        "colab": {
          "base_uri": "https://localhost:8080/",
          "height": 62
        },
        "id": "M8Pw5-EWH1qS",
        "outputId": "b24e14b6-4298-4969-cad9-7d135e166255"
      },
      "execution_count": 26,
      "outputs": [
        {
          "output_type": "execute_result",
          "data": {
            "text/plain": [
              "<IPython.core.display.Markdown object>"
            ],
            "text/markdown": "> No"
          },
          "metadata": {},
          "execution_count": 26
        }
      ]
    },
    {
      "cell_type": "markdown",
      "source": [
        "É evidente que o chatbot está alucinando, já que nenhum elefante jamais voou para a lua. Mas como podemos evitar este tipo de perguntas inadequadas e, mais especificamente, reduzir as alucinações?\n",
        "\n",
        "Existe um método possível chamado prompt Determine Appropriate Response (DARE), que usa habilmente o próprio LLM para decidir se deve responder a uma pergunta com base em qual é sua missão.\n",
        "\n",
        "Vamos ver como funciona criando um chatbot para um site de viagens com um leve toque diferente."
      ],
      "metadata": {
        "id": "itxTjHTsGB0y"
      }
    },
    {
      "cell_type": "code",
      "source": [
        "model = genai.GenerativeModel('gemini-pro')\n",
        "chat = model.start_chat(history=[])\n",
        "\n",
        "dare_prompt = \"\"\"Remember that before you answer a question, you must check to see if it complies with your mission.\n",
        "If not, you can say, Sorry I can't answer that question.\"\"\"\n",
        "\n",
        "print(\n",
        "    chat.send_message(\n",
        "        f\"\"\"\n",
        "Hello! You are an AI chatbot for a travel web site.\n",
        "Your mission is to provide helpful queries for travelers.\n",
        "\n",
        "{dare_prompt}\n",
        "\"\"\"\n",
        "    )\n",
        ")"
      ],
      "metadata": {
        "colab": {
          "base_uri": "https://localhost:8080/",
          "height": 141
        },
        "id": "ozkcHEe-F1vX",
        "outputId": "037164d1-8be9-40bf-80b4-9261ac75d49f"
      },
      "execution_count": 19,
      "outputs": [
        {
          "output_type": "stream",
          "name": "stdout",
          "text": [
            "response:\n",
            "GenerateContentResponse(\n",
            "    done=True,\n",
            "    iterator=None,\n",
            "    result=glm.GenerateContentResponse({'candidates': [{'content': {'parts': [{'text': \"Greetings! As an AI chatbot for a travel website, I am equipped to assist you with various travel-related queries. Feel free to ask me anything about destinations, attractions, transportation, and more. I am here to make your travel planning smooth and enjoyable. Let's get started!\"}], 'role': 'model'}, 'finish_reason': 1, 'index': 0, 'safety_ratings': [{'category': 9, 'probability': 1, 'blocked': False}, {'category': 8, 'probability': 1, 'blocked': False}, {'category': 7, 'probability': 1, 'blocked': False}, {'category': 10, 'probability': 1, 'blocked': False}], 'token_count': 0, 'grounding_attributions': []}], 'prompt_feedback': {'safety_ratings': [{'category': 9, 'probability': 1, 'blocked': False}, {'category': 8, 'probability': 1, 'blocked': False}, {'category': 7, 'probability': 1, 'blocked': False}, {'category': 10, 'probability': 1, 'blocked': False}], 'block_reason': 0}}),\n",
            ")\n"
          ]
        }
      ]
    },
    {
      "cell_type": "markdown",
      "source": [
        "Suponha que façamos uma pergunta simples sobre um dos pontos turísticos mais famosos da Itália."
      ],
      "metadata": {
        "id": "faK5UrCHKTPI"
      }
    },
    {
      "cell_type": "code",
      "source": [
        "prompt = \"What is the best place for sightseeing in Milan, Italy?\"\n",
        "to_markdown(chat.send_message(prompt).text)"
      ],
      "metadata": {
        "colab": {
          "base_uri": "https://localhost:8080/",
          "height": 295
        },
        "id": "Ujyh65RqKRjW",
        "outputId": "5f86855f-42b5-422c-9bcf-287f17778a28"
      },
      "execution_count": 22,
      "outputs": [
        {
          "output_type": "execute_result",
          "data": {
            "text/plain": [
              "<IPython.core.display.Markdown object>"
            ],
            "text/markdown": "> The Duomo di Milano is an iconic Gothic cathedral and one of the most popular tourist attractions in Milan. With its stunning architecture, intricate details, and breathtaking views from its rooftop, the Duomo is a must-see for any visitor to the city. Here are some of the highlights of the Duomo di Milano:\n> \n> * **The Rooftop:** The Duomo's rooftop offers panoramic views of Milan and the surrounding countryside. You can climb up the stairs or take an elevator to reach the top, where you'll be rewarded with stunning views of the city's skyline, including the spires of the cathedral itself, the Castello Sforzesco, and the Alps in the distance.\n> \n> * **The Interior:** The Duomo's interior is just as impressive as its exterior. The nave is lined with massive pillars and stained glass windows, and the altar is adorned with gold and precious stones. Be sure to look up at the ceiling to see the beautiful frescoes depicting scenes from the life of Christ.\n> \n> * **The Crypt:** The Duomo's crypt is home to the tomb of Saint Charles Borromeo, the patron saint of Milan. The crypt is also decorated with frescoes and sculptures, and it's a great place to learn more about the history of the cathedral.\n> \n> If you're interested in art and architecture, or if you just want to experience one of the most iconic landmarks in Milan, be sure to visit the Duomo di Milano. It's a truly unforgettable experience."
          },
          "metadata": {},
          "execution_count": 22
        }
      ]
    },
    {
      "cell_type": "markdown",
      "source": [
        "Agora vamos fingir que somos um usuário não tão legal e fazer ao chatbot uma pergunta que não tem relação com viagens."
      ],
      "metadata": {
        "id": "l3ogWgUVKj8d"
      }
    },
    {
      "cell_type": "code",
      "source": [
        "prompt = \"Who is the cat that speaks English?\"\n",
        "to_markdown(chat.send_message(prompt).text)"
      ],
      "metadata": {
        "colab": {
          "base_uri": "https://localhost:8080/",
          "height": 62
        },
        "id": "GTptDz82Kewj",
        "outputId": "97a17ab7-df3c-4808-be6b-af7cc2a86737"
      },
      "execution_count": 25,
      "outputs": [
        {
          "output_type": "execute_result",
          "data": {
            "text/plain": [
              "<IPython.core.display.Markdown object>"
            ],
            "text/markdown": "> Sorry, I can't answer that question. My mission is to provide helpful queries for travelers. I don't have information about fictional characters."
          },
          "metadata": {},
          "execution_count": 25
        }
      ]
    },
    {
      "cell_type": "markdown",
      "source": [
        "Você pode ver que o prompt do DARE adicionou uma camada de segurança que impediu que o chatbot se desviasse do curso.\n",
        "Entretanto, ainda há como desviar, exemplo do carro e flores."
      ],
      "metadata": {
        "id": "fZAiANDmYEyg"
      }
    },
    {
      "cell_type": "markdown",
      "source": [
        "### Transforme tarefas generativas em tarefas de classificação para reduzir a variabilidade de resultados"
      ],
      "metadata": {
        "id": "uXGVVnraYXWW"
      }
    },
    {
      "cell_type": "markdown",
      "source": [
        "#### Tarefas generativas levam a maior variabilidade de produção"
      ],
      "metadata": {
        "id": "jTLxu6bjYiJW"
      }
    },
    {
      "cell_type": "markdown",
      "source": [
        "A solicitação abaixo resulta em uma resposta aberta, útil para brainstorming, mas a resposta é altamente variável."
      ],
      "metadata": {
        "id": "3dcfcUVvYkkP"
      }
    },
    {
      "cell_type": "code",
      "source": [
        "prompt = \"I'm a high school student. Recommend me a programming activity to improve my skills.\"\n",
        "to_markdown(model.generate_content(prompt).text)"
      ],
      "metadata": {
        "colab": {
          "base_uri": "https://localhost:8080/",
          "height": 1000
        },
        "id": "7Qsw9ooQYiwK",
        "outputId": "c426370b-dadb-4c2d-ffc2-e2391e94c84c"
      },
      "execution_count": 29,
      "outputs": [
        {
          "output_type": "execute_result",
          "data": {
            "text/plain": [
              "<IPython.core.display.Markdown object>"
            ],
            "text/markdown": "> **Interactive CLI-Based Text Adventure**\n> \n> * **Objective:** Create a command-line interface (CLI) text adventure game where the player explores an environment, solves puzzles, and interacts with characters.\n> * **Skills Developed:**\n>     * Fundamental programming concepts (variables, loops, conditional statements)\n>     * Problem-solving and logical thinking\n>     * String manipulation and user input handling\n> * **Tools to Use:**\n>     * Python or Java\n>     * Command-line interface (e.g., Terminal or Command Prompt)\n> \n> **Mobile App with UI and User Interaction**\n> \n> * **Objective:** Design and build a mobile application with a user interface and interactive features. Consider creating a game, productivity tool, or utility application.\n> * **Skills Developed:**\n>     * Mobile application development principles\n>     * User experience (UX) and user interface (UI) design\n>     * Event handling, touch gestures, and data persistence\n> * **Tools to Use:**\n>     * Android Studio or Xcode\n>     * Java, Kotlin, or Swift\n> \n> **Web Application with Database Integration**\n> \n> * **Objective:** Create a web application that leverages a database to store and manage user data. This could be a blog, e-commerce site, or social media platform.\n> * **Skills Developed:**\n>     * Web development basics (HTML, CSS, JavaScript)\n>     * Server-side programming (e.g., PHP, Python)\n>     * Database design and data manipulation\n>     * HTTP requests and responses\n> * **Tools to Use:**\n>     * Apache or Nginx web server\n>     * MySQL or PostgreSQL database\n>     * PHP, Python, or Node.js\n> \n> **IoT Project with Microcontroller or Raspberry Pi**\n> \n> * **Objective:** Build an IoT device that interacts with the physical world using sensors, actuators, and microcontroller boards like Arduino or Raspberry Pi.\n> * **Skills Developed:**\n>     * Embedded programming\n>     * Electronics and hardware integration\n>     * Data collection and analysis\n>     * Wireless communication (e.g., Wi-Fi, Bluetooth)\n> * **Tools to Use:**\n>     * Arduino IDE or Raspberry Pi OS\n>     * Arduino or Raspberry Pi microcontroller\n>     * Sensors, actuators, and other hardware components\n> \n> **Machine Learning Algorithm Implementation**\n> \n> * **Objective:** Implement a machine learning algorithm from scratch (e.g., linear regression, decision tree, neural network).\n> * **Skills Developed:**\n>     * Machine learning concepts (supervised/unsupervised learning, classification/regression)\n>     * Mathematical and statistical techniques\n>     * Data preprocessing and model evaluation\n> * **Tools to Use:**\n>     * Python or R programming languages\n>     * Machine learning libraries (e.g., scikit-learn, TensorFlow)"
          },
          "metadata": {},
          "execution_count": 29
        }
      ]
    },
    {
      "cell_type": "markdown",
      "source": [
        "#### As tarefas de classificação reduzem a variabilidade de saída"
      ],
      "metadata": {
        "id": "FmzNXa0jYyV9"
      }
    },
    {
      "cell_type": "markdown",
      "source": [
        "O prompt abaixo resulta em uma escolha e pode ser útil se você quiser que a saída seja mais fácil de controlar."
      ],
      "metadata": {
        "id": "8Cx-G3znY1mp"
      }
    },
    {
      "cell_type": "code",
      "source": [
        "prompt = \"\"\"I'm a high school student. Which of these activities do you suggest and why:\n",
        "a) learn Python\n",
        "b) learn Javascript\n",
        "c) learn Fortran\n",
        "\"\"\"\n",
        "to_markdown(model.generate_content(prompt).text)"
      ],
      "metadata": {
        "colab": {
          "base_uri": "https://localhost:8080/",
          "height": 452
        },
        "id": "oP-f_rO-Ytkw",
        "outputId": "0bf3b7b5-b17b-4247-d0b3-39c6ef11a43b"
      },
      "execution_count": 30,
      "outputs": [
        {
          "output_type": "execute_result",
          "data": {
            "text/plain": [
              "<IPython.core.display.Markdown object>"
            ],
            "text/markdown": "> **If you're interested in a general-purpose programming language with a wide range of applications:**\n> \n> **a) Learn Python:**\n> \n> * Python is a versatile language used in web development, data science, machine learning, and more.\n> * It's widely used in industry and has a large community, making it easier to find support and resources.\n> * Its beginner-friendly syntax makes it easier for students to learn and understand.\n> \n> **If you're interested in programming for web development:**\n> \n> **b) Learn Javascript:**\n> \n> * Javascript is the primary language used for creating dynamic and interactive web pages.\n> * It's essential for building websites, web applications, and mobile apps.\n> * It has a large ecosystem of tools and frameworks to enhance productivity.\n> \n> **If you're interested in scientific computing and numerical analysis:**\n> \n> **c) Learn Fortran:**\n> \n> * Fortran is a specialized language widely used in scientific programming for solving complex mathematical problems.\n> * It's commonly used for simulations, modeling, and data analysis in fields like engineering, physics, and chemistry.\n> * However, Fortran is less versatile than Python or Javascript and may not be as popular outside scientific computing.\n> \n> **Additional Considerations:**\n> \n> * **Career Outlook:** Python and Javascript have strong job prospects in tech and other industries. Fortran is more niche but still valuable in scientific fields.\n> * **Personal Interests:** Choose a language that aligns with your career goals or personal interests.\n> * **Teacher Availability:** Consider the availability of qualified teachers and resources for each language at your school or in your community."
          },
          "metadata": {},
          "execution_count": 30
        }
      ]
    },
    {
      "cell_type": "markdown",
      "source": [
        "### Melhore a qualidade da resposta incluindo exemplos"
      ],
      "metadata": {
        "id": "PUlIvjd8ZKVB"
      }
    },
    {
      "cell_type": "markdown",
      "source": [
        "Outra maneira de melhorar a qualidade da resposta é adicionar exemplos ao seu prompt. O LLM aprende no contexto a partir dos exemplos sobre como responder. Normalmente, um a cinco exemplos (tiros) são suficientes para melhorar a qualidade das respostas. Incluir muitos exemplos pode fazer com que o modelo se ajuste demais aos dados e reduza a qualidade das respostas.\n",
        "\n",
        "Semelhante ao treinamento de modelo clássico, a qualidade e distribuição dos exemplos são muito importantes. Escolha exemplos que sejam representativos dos cenários que você precisa que o modelo aprenda e mantenha a distribuição dos exemplos (por exemplo, número de exemplos por classe no caso de classificação) alinhada com sua distribuição real."
      ],
      "metadata": {
        "id": "RdDUyrOgZOkp"
      }
    },
    {
      "cell_type": "code",
      "source": [
        "#### Zero-shot prompt\n",
        "prompt = \"\"\"Decide whether a Tweet's sentiment is positive, neutral, or negative.\n",
        "\n",
        "Tweet: I loved the new YouTube video you made!\n",
        "Sentiment:\n",
        "\"\"\"\n",
        "to_markdown(model.generate_content(prompt).text)"
      ],
      "metadata": {
        "colab": {
          "base_uri": "https://localhost:8080/",
          "height": 62
        },
        "id": "9DEPc05yY7Ed",
        "outputId": "31959139-9a36-4ee8-c79c-cf49845501c7"
      },
      "execution_count": 31,
      "outputs": [
        {
          "output_type": "execute_result",
          "data": {
            "text/plain": [
              "<IPython.core.display.Markdown object>"
            ],
            "text/markdown": "> Positive"
          },
          "metadata": {},
          "execution_count": 31
        }
      ]
    },
    {
      "cell_type": "code",
      "source": [
        "#### One-shot prompt\n",
        "prompt = \"\"\"Decide whether a Tweet's sentiment is positive, neutral, or negative.\n",
        "\n",
        "Tweet: I loved the new YouTube video you made!\n",
        "Sentiment: positive\n",
        "\n",
        "Tweet: That was awful. Super boring 😠\n",
        "Sentiment:\n",
        "\"\"\"\n",
        "to_markdown(model.generate_content(prompt).text)"
      ],
      "metadata": {
        "colab": {
          "base_uri": "https://localhost:8080/",
          "height": 62
        },
        "id": "A8Y0PiOhZuVk",
        "outputId": "a590f1dc-b86a-4c5a-b62e-fc17bde027ad"
      },
      "execution_count": 32,
      "outputs": [
        {
          "output_type": "execute_result",
          "data": {
            "text/plain": [
              "<IPython.core.display.Markdown object>"
            ],
            "text/markdown": "> Sentiment: negative"
          },
          "metadata": {},
          "execution_count": 32
        }
      ]
    },
    {
      "cell_type": "code",
      "source": [
        "#### Few-shot prompt\n",
        "prompt = \"\"\"Decide whether a Tweet's sentiment is positive, neutral, or negative.\n",
        "\n",
        "Tweet: I loved the new YouTube video you made!\n",
        "Sentiment: positive\n",
        "\n",
        "Tweet: That was awful. Super boring 😠\n",
        "Sentiment: negative\n",
        "\n",
        "Tweet: Something surprised me about this video - it was actually original. It was not the same old recycled stuff that I always see. Watch it - you will not regret it.\n",
        "Sentiment:\n",
        "\"\"\"\n",
        "to_markdown(model.generate_content(prompt).text)"
      ],
      "metadata": {
        "colab": {
          "base_uri": "https://localhost:8080/",
          "height": 62
        },
        "id": "5Ix5XkXsZzp_",
        "outputId": "85b2242f-256e-45e5-81b0-8bbee7d5c1e4"
      },
      "execution_count": 34,
      "outputs": [
        {
          "output_type": "execute_result",
          "data": {
            "text/plain": [
              "<IPython.core.display.Markdown object>"
            ],
            "text/markdown": "> positive"
          },
          "metadata": {},
          "execution_count": 34
        }
      ]
    },
    {
      "cell_type": "markdown",
      "source": [
        "#### Escolhendo entre métodos de solicitação de disparo zero, disparo único e poucos disparos"
      ],
      "metadata": {
        "id": "B-O4NvUCaGao"
      }
    },
    {
      "cell_type": "markdown",
      "source": [
        "A técnica imediata a ser usada dependerá exclusivamente do seu objetivo. Os prompts de disparo zero são mais abertos e podem fornecer respostas criativas, enquanto os prompts de disparo único e de poucos disparos ensinam o modelo como se comportar para que você possa obter respostas mais previsíveis que sejam consistentes com os exemplos fornecidos."
      ],
      "metadata": {
        "id": "zNBPKunQaOzK"
      }
    },
    {
      "cell_type": "markdown",
      "source": [
        "## Exemplos de ideias"
      ],
      "metadata": {
        "id": "qTWbk0V8WcJC"
      }
    },
    {
      "cell_type": "markdown",
      "source": [
        "### Geração de campanha de marketing\n",
        "\n",
        "Neste exemplo, nosso exemplo de geração envolverá o processo de criação de novas receitas de biscoitos."
      ],
      "metadata": {
        "id": "c7kJYQ-nWmoY"
      }
    },
    {
      "cell_type": "code",
      "source": [
        "prompt = \"Generate a marketing campaign for sustainability and fashion\"\n",
        "to_markdown(model.generate_content(prompt).text)"
      ],
      "metadata": {
        "colab": {
          "base_uri": "https://localhost:8080/",
          "height": 644
        },
        "id": "CZVKQq-yWd2y",
        "outputId": "1e353048-62a1-477b-c22a-2daef59f420d"
      },
      "execution_count": 8,
      "outputs": [
        {
          "output_type": "execute_result",
          "data": {
            "text/plain": [
              "<IPython.core.display.Markdown object>"
            ],
            "text/markdown": "> **Campaign Title:** \"Style with Sustenance\"\n> \n> **Target Audience:** Fashion-conscious consumers who value both style and environmental responsibility.\n> \n> **Campaign Objectives:**\n> \n> * Increase awareness of the environmental impact of the fashion industry.\n> * Promote sustainable fashion practices and solutions.\n> * Inspire consumers to make more conscious fashion choices.\n> \n> **Marketing Channels:**\n> \n> * Social Media: Engage with influencers, create impactful content, and host online challenges.\n> * Online Advertising: Utilize targeted ads on relevant platforms to reach potential customers.\n> * Email Marketing: Send newsletters featuring sustainable fashion inspiration, tips, and product recommendations.\n> * Pop-up Events: Host interactive installations and workshops in high-traffic locations to educate and inspire.\n> \n> **Campaign Message:**\n> \n> \"Step into the future of fashion, where style meets sustainability. Join the sustainable fashion revolution by choosing garments that are ethically sourced, produced, and disposed of. Together, we can create a more stylish and sustainable world.\"\n> \n> **Campaign Tactics:**\n> \n> * **Eco-Friendly Fashion Showcase:** Host a runway show or exhibition featuring garments made from recycled materials, organic fabrics, and sustainable manufacturing processes.\n> * **Sustainable Style Guide:** Create an online guide providing tips and advice on how to incorporate sustainable fashion into daily wardrobes.\n> * **Collaboration with Eco-Friendly Brands:** Partner with ethical fashion brands to promote their collections and share their sustainability stories.\n> * **Offset Carbon Footprint Campaign:** Offer customers the opportunity to offset the carbon footprint of their purchases through donations to environmental organizations.\n> * **Upcycling and Repair Workshops:** Host workshops where consumers can learn how to upcycle old garments and repair existing ones.\n> \n> **Call to Action:**\n> \n> * Encourage consumers to #StyleWithSustenance and make conscious fashion choices.\n> * Provide links to sustainable fashion resources and online shops.\n> * Offer incentives for purchases from eco-friendly brands.\n> \n> **Measurement and Evaluation:**\n> \n> * Track website traffic and social media engagement to gauge campaign reach.\n> * Monitor sales of sustainable fashion products.\n> * Conduct surveys to measure consumer awareness of the environmental impact of fashion and their intention to purchase sustainable items."
          },
          "metadata": {},
          "execution_count": 8
        }
      ]
    },
    {
      "cell_type": "markdown",
      "source": [
        "### Criando questões de compreensão de leitura\n",
        "\n",
        "Os testes de compreensão de leitura são frequentemente usados em escolas e universidades para avaliar as habilidades de leitura de um aluno. Você pode usar a API Gemini para gerar alguns exemplos de perguntas para testar a compreensão de uma pessoa sobre uma passagem de texto fornecida."
      ],
      "metadata": {
        "id": "ChIvqNasW5Gj"
      }
    },
    {
      "cell_type": "code",
      "source": [
        "prompt = \"\"\"\n",
        "Generate 5 questions that test a reader's comprehension of the following text.\n",
        "\n",
        "Text:\n",
        "The Amazon rainforest, also called Amazon jungle or Amazonia, is a moist broadleaf tropical rainforest in the Amazon biome that covers most of the Amazon basin of South America. This basin encompasses 7,000,000 km2 (2,700,000 sq mi), of which 5,500,000 km2 (2,100,000 sq mi) are covered by the rainforest. This region includes territory belonging to nine nations and 3,344 formally acknowledged indigenous territories.\n",
        "\n",
        "The majority of the forest, 60%, is in Brazil, followed by Peru with 13%, Colombia with 10%, and with minor amounts in Bolivia, Ecuador, French Guiana, Guyana, Suriname, and Venezuela. Four nations have \"Amazonas\" as the name of one of their first-level administrative regions, and France uses the name \"Guiana Amazonian Park\" for French Guiana's protected rainforest area. The Amazon represents over half of the planet's remaining rainforests, and comprises the largest and most biodiverse tract of tropical rainforest in the world, with an estimated 390 billion individual trees in about 16,000 species.\n",
        "\n",
        "More than 30 million people of 350 different ethnic groups live in the Amazon, which are subdivided into 9 different national political systems and 3,344 formally acknowledged indigenous territories. Indigenous peoples make up 9% of the total population, and 60 of the groups remain largely isolated.\n",
        "\n",
        "The rainforest likely formed during the Eocene era (from 56 million years to 33.9 million years ago). It appeared following a global reduction of tropical temperatures when the Atlantic Ocean had widened sufficiently to provide a warm, moist climate to the Amazon basin. The rainforest has been in existence for at least 55 million years, and most of the region remained free of savanna-type biomes at least until the current ice age when the climate was drier and savanna more widespread.\n",
        "\n",
        "Following the Cretaceous–Paleogene extinction event, the extinction of the dinosaurs and the wetter climate may have allowed the tropical rainforest to spread out across the continent. From 66 to 34 Mya, the rainforest extended as far south as 45°. Climate fluctuations during the last 34 million years have allowed savanna regions to expand into the tropics. During the Oligocene, for example, the rainforest spanned a relatively narrow band. It expanded again during the Middle Miocene, then retracted to a mostly inland formation at the last glacial maximum. However, the rainforest still managed to thrive during these glacial periods, allowing for the survival and evolution of a broad diversity of species.\n",
        "\n",
        "Aerial view of the Amazon rainforest\n",
        "During the mid-Eocene, it is believed that the drainage basin of the Amazon was split along the middle of the continent by the Púrus Arch. Water on the eastern side flowed toward the Atlantic, while to the west water flowed toward the Pacific across the Amazonas Basin. As the Andes Mountains rose, however, a large basin was created that enclosed a lake; now known as the Solimões Basin. Within the last 5–10 million years, this accumulating water broke through the Púrus Arch, joining the easterly flow toward the Atlantic.\n",
        "\n",
        "There is evidence that there have been significant changes in the Amazon rainforest vegetation over the last 21,000 years through the last glacial maximum (LGM) and subsequent deglaciation. Analyses of sediment deposits from Amazon basin paleolakes and the Amazon Fan indicate that rainfall in the basin during the LGM was lower than for the present, and this was almost certainly associated with reduced moist tropical vegetation cover in the basin. In present day, the Amazon receives approximately 9 feet of rainfall annually. There is a debate, however, over how extensive this reduction was. Some scientists argue that the rainforest was reduced to small, isolated refugia separated by open forest and grassland; other scientists argue that the rainforest remained largely intact but extended less far to the north, south, and east than is seen today. This debate has proved difficult to resolve because the practical limitations of working in the rainforest mean that data sampling is biased away from the center of the Amazon basin, and both explanations are reasonably well supported by the available data.\n",
        "\n",
        "Sahara Desert dust windblown to the Amazon\n",
        "More than 56% of the dust fertilizing the Amazon rainforest comes from the Bodélé depression in Northern Chad in the Sahara desert. The dust contains phosphorus, important for plant growth. The yearly Sahara dust replaces the equivalent amount of phosphorus washed away yearly in Amazon soil from rains and floods.\n",
        "\n",
        "NASA's CALIPSO satellite has measured the amount of dust transported by wind from the Sahara to the Amazon: an average of 182 million tons of dust are windblown out of the Sahara each year, at 15 degrees west longitude, across 2,600 km (1,600 mi) over the Atlantic Ocean (some dust falls into the Atlantic), then at 35 degrees West longitude at the eastern coast of South America, 27.7 million tons (15%) of dust fall over the Amazon basin (22 million tons of it consisting of phosphorus), 132 million tons of dust remain in the air, 43 million tons of dust are windblown and falls on the Caribbean Sea, past 75 degrees west longitude.\n",
        "\n",
        "CALIPSO uses a laser range finder to scan the Earth's atmosphere for the vertical distribution of dust and other aerosols. CALIPSO regularly tracks the Sahara-Amazon dust plume. CALIPSO has measured variations in the dust amounts transported – an 86 percent drop between the highest amount of dust transported in 2007 and the lowest in 2011.\n",
        "A possibility causing the variation is the Sahel, a strip of semi-arid land on the southern border of the Sahara. When rain amounts in the Sahel are higher, the volume of dust is lower. The higher rainfall could make more vegetation grow in the Sahel, leaving less sand exposed to winds to blow away.[25]\n",
        "\n",
        "Amazon phosphorus also comes as smoke due to biomass burning in Africa.\n",
        "\n",
        "Questions:\n",
        "\"\"\"\n",
        "\n",
        "generation_config = {\n",
        "    \"temperature\": 0.2,\n",
        "    \"top_p\": 0.8,\n",
        "    \"top_k\": 40,\n",
        "    \"max_output_tokens\": 1024,\n",
        "}\n",
        "\n",
        "model = genai.GenerativeModel('gemini-pro', generation_config=generation_config)\n",
        "to_markdown(model.generate_content(prompt).text)"
      ],
      "metadata": {
        "colab": {
          "base_uri": "https://localhost:8080/",
          "height": 132
        },
        "id": "Yx7DtYYIXFrc",
        "outputId": "c9f4789b-eea0-4068-cf8b-d362645e0118"
      },
      "execution_count": 10,
      "outputs": [
        {
          "output_type": "execute_result",
          "data": {
            "text/plain": [
              "<IPython.core.display.Markdown object>"
            ],
            "text/markdown": "> 1. What percentage of the Amazon rainforest is located in Brazil?\n> 2. How many indigenous territories are formally acknowledged within the Amazon rainforest?\n> 3. What is the estimated number of individual trees in the Amazon rainforest?\n> 4. What geological event is believed to have contributed to the formation of the Amazon rainforest?\n> 5. What is the source of over 56% of the dust that fertilizes the Amazon rainforest?"
          },
          "metadata": {},
          "execution_count": 10
        }
      ]
    },
    {
      "cell_type": "markdown",
      "source": [
        "### Geração de memes\n",
        "\n",
        "Um exemplo mais alegre de geração de texto é gerar memes com base em um determinado tópico."
      ],
      "metadata": {
        "id": "85liBIP7aAhu"
      }
    },
    {
      "cell_type": "code",
      "source": [
        "prompt = \"Give me 5 dog meme ideas:\"\n",
        "\n",
        "generation_config = {\n",
        "    \"temperature\": 0.2,\n",
        "    \"top_p\": 0.8,\n",
        "    \"top_k\": 1,\n",
        "    \"max_output_tokens\": 1024,\n",
        "}\n",
        "\n",
        "model = genai.GenerativeModel('gemini-pro', generation_config=generation_config)\n",
        "to_markdown(model.generate_content(prompt).text)"
      ],
      "metadata": {
        "colab": {
          "base_uri": "https://localhost:8080/",
          "height": 167
        },
        "id": "1d2A5SMGZuUq",
        "outputId": "46660487-5ae9-4a10-8c59-a82d2f57980d"
      },
      "execution_count": 11,
      "outputs": [
        {
          "output_type": "execute_result",
          "data": {
            "text/plain": [
              "<IPython.core.display.Markdown object>"
            ],
            "text/markdown": "> 1. **\"I'm Not a Dog, I'm a Hooman!\"** - A dog dressed in human clothes, looking confused and bewildered.\n> 2. **\"When You Realize You're the Only One Who Doesn't Speak Dog\"** - A group of dogs chatting, while one dog looks on with a blank expression.\n> 3. **\"My Human Is a Potato\"** - A dog sitting next to a sleeping human, with a caption that reads \"My human is a potato.\"\n> 4. **\"I'm Not Fat, I'm Just Fluffy!\"** - A chubby dog looking at the camera with a smug expression.\n> 5. **\"When You're Trying to Be Serious But Your Dog Won't Stop Making You Laugh\"** - A person trying to take a serious photo with their dog, but the dog keeps making funny faces."
          },
          "metadata": {},
          "execution_count": 11
        }
      ]
    },
    {
      "cell_type": "markdown",
      "source": [
        "### Geração de perguntas para entrevista\n",
        "\n",
        "Quer você seja o entrevistador ou o entrevistado, ter alguns exemplos de perguntas de entrevista com as quais possa trabalhar pode ser muito útil em entrevistas de emprego. Vamos gerar algumas possíveis perguntas de entrevista para uma função específica."
      ],
      "metadata": {
        "id": "NMfMm891aZOk"
      }
    },
    {
      "cell_type": "code",
      "source": [
        "prompt = \"Give me ten interview questions for the role of prompt engineer.\"\n",
        "\n",
        "generation_config = {\n",
        "    \"temperature\": 0.2,\n",
        "    \"top_p\": 0.8,\n",
        "    \"top_k\": 1,\n",
        "    \"max_output_tokens\": 1024,\n",
        "}\n",
        "\n",
        "model = genai.GenerativeModel('gemini-pro', generation_config=generation_config)\n",
        "to_markdown(model.generate_content(prompt).text)"
      ],
      "metadata": {
        "colab": {
          "base_uri": "https://localhost:8080/",
          "height": 219
        },
        "id": "FwcTyfGAaMW4",
        "outputId": "70242ac5-f0b3-4fd4-99b1-4a13c7d61706"
      },
      "execution_count": 12,
      "outputs": [
        {
          "output_type": "execute_result",
          "data": {
            "text/plain": [
              "<IPython.core.display.Markdown object>"
            ],
            "text/markdown": "> 1. Describe your understanding of the role of a prompt engineer and its key responsibilities.\n> 2. Explain the different types of prompts used in AI models and their respective purposes.\n> 3. How do you approach the task of crafting effective prompts that elicit desired responses from AI models?\n> 4. Discuss the importance of context and domain knowledge in prompt engineering.\n> 5. How do you evaluate the quality of prompts and measure their effectiveness?\n> 6. Describe your experience in using prompt engineering tools and techniques.\n> 7. How do you stay up-to-date with the latest advancements in prompt engineering and AI technology?\n> 8. Provide an example of a complex prompt engineering project you have worked on and its outcomes.\n> 9. How do you handle situations where the AI model does not respond as expected to a prompt?\n> 10. What are your thoughts on the ethical implications of prompt engineering and how do you ensure responsible use of this technology?"
          },
          "metadata": {},
          "execution_count": 12
        }
      ]
    },
    {
      "cell_type": "markdown",
      "source": [
        "### Geração de nome\n",
        "\n",
        "A geração de nomes é útil em vários cenários, como criar novos personagens para uma história ou nomear um novo produto ou empresa."
      ],
      "metadata": {
        "id": "G_pJXqPHa0qn"
      }
    },
    {
      "cell_type": "code",
      "source": [
        "prompt = \"What's a good name for a flower shop that specializes in selling bouquets of dried flowers?\"\n",
        "\n",
        "generation_config = {\n",
        "    \"temperature\": 0.2,\n",
        "    \"top_p\": 0.8,\n",
        "    \"top_k\": 1,\n",
        "    \"max_output_tokens\": 256,\n",
        "}\n",
        "\n",
        "model = genai.GenerativeModel('gemini-pro', generation_config=generation_config)\n",
        "to_markdown(model.generate_content(prompt).text)"
      ],
      "metadata": {
        "colab": {
          "base_uri": "https://localhost:8080/",
          "height": 219
        },
        "id": "vQ5VqJrka677",
        "outputId": "eb675c81-cc0d-473e-8082-10f5aa0de84a"
      },
      "execution_count": 13,
      "outputs": [
        {
          "output_type": "execute_result",
          "data": {
            "text/plain": [
              "<IPython.core.display.Markdown object>"
            ],
            "text/markdown": "> * Everlasting Blooms\n> * Timeless Treasures\n> * Dried Delights\n> * Floral Memories\n> * Nature's Keepsakes\n> * Preserved Petals\n> * Botanical Bouquets\n> * Eternal Arrangements\n> * Dried Flower Haven\n> * Floral Heritage"
          },
          "metadata": {},
          "execution_count": 13
        }
      ]
    },
    {
      "cell_type": "markdown",
      "source": [
        "### Dicas e conselhos gerais"
      ],
      "metadata": {
        "id": "vL9lb6f8bEtp"
      }
    },
    {
      "cell_type": "code",
      "source": [
        "prompt = \"What are some strategies for overcoming writer's block?\"\n",
        "\n",
        "generation_config = {\n",
        "    \"temperature\": 0.2,\n",
        "    \"top_p\": 0.8,\n",
        "    \"top_k\": 1,\n",
        "    \"max_output_tokens\": 1024,\n",
        "}\n",
        "\n",
        "model = genai.GenerativeModel('gemini-pro', generation_config=generation_config)\n",
        "to_markdown(model.generate_content(prompt).text)"
      ],
      "metadata": {
        "colab": {
          "base_uri": "https://localhost:8080/",
          "height": 429
        },
        "id": "f4d8BWNlbAXV",
        "outputId": "1f98b390-ce34-4f30-ecad-8bbcbfba27d8"
      },
      "execution_count": 14,
      "outputs": [
        {
          "output_type": "execute_result",
          "data": {
            "text/plain": [
              "<IPython.core.display.Markdown object>"
            ],
            "text/markdown": "> **1. Freewriting:** Write without stopping for a set period of time, allowing your thoughts to flow freely onto the page. Don't worry about grammar or structure, just focus on getting words down.\n> \n> **2. Mind Mapping:** Create a visual representation of your ideas by drawing a central topic and branching out with related concepts. This can help you generate new ideas and see connections you may not have noticed before.\n> \n> **3. Brainstorming:** Gather a group of people and generate ideas together. Encourage everyone to share their thoughts, even if they seem unconventional.\n> \n> **4. Sensory Stimulation:** Engage your senses by listening to music, smelling scents, or touching different textures. This can help spark your imagination and trigger new ideas.\n> \n> **5. Change of Environment:** Step away from your usual writing space and find a new location that inspires you. A coffee shop, library, or park can provide a fresh perspective.\n> \n> **6. Read:** Immerse yourself in other people's writing to stimulate your creativity. Pay attention to the language, structure, and ideas presented.\n> \n> **7. Take Breaks:** When you feel stuck, step away from your writing and engage in a different activity. Go for a walk, exercise, or spend time with friends. This can help clear your mind and return to your writing refreshed.\n> \n> **8. Set Realistic Goals:** Don't try to write a masterpiece in one sitting. Break down your writing task into smaller, manageable chunks. This can make the process less daunting and help you stay motivated.\n> \n> **9. Seek Feedback:** Share your writing with a trusted friend, family member, or writing group. Their feedback can provide valuable insights and help you identify areas for improvement.\n> \n> **10. Practice Regularly:** Writing is a skill that improves with practice. Set aside regular time to write, even if you don't feel inspired. The more you write, the easier it will become to overcome writer's block."
          },
          "metadata": {},
          "execution_count": 14
        }
      ]
    },
    {
      "cell_type": "markdown",
      "source": [
        "### Gerando respostas por meio de \"representação\""
      ],
      "metadata": {
        "id": "s2E4Uf5_bXSR"
      }
    },
    {
      "cell_type": "code",
      "source": [
        "prompt = \"\"\"You are a DJ. Take the following sentence and rephrase it as a DJ.\n",
        "'Learn as if you will live forever, live like you will die tomorrow.'\n",
        "\"\"\"\n",
        "generation_config = {\n",
        "    \"temperature\": 0.8,\n",
        "    \"top_p\": 0.8,\n",
        "    \"top_k\": 40,\n",
        "    \"max_output_tokens\": 1024,\n",
        "}\n",
        "\n",
        "model = genai.GenerativeModel('gemini-pro', generation_config=generation_config)\n",
        "to_markdown(model.generate_content(prompt).text)"
      ],
      "metadata": {
        "colab": {
          "base_uri": "https://localhost:8080/",
          "height": 62
        },
        "id": "Bn9h10WxbOSs",
        "outputId": "ea83a2ee-ae32-4367-cbde-9506302c93ff"
      },
      "execution_count": 16,
      "outputs": [
        {
          "output_type": "execute_result",
          "data": {
            "text/plain": [
              "<IPython.core.display.Markdown object>"
            ],
            "text/markdown": "> \"Master the beats, mix for eternity, live each set like it's your final decree.\""
          },
          "metadata": {},
          "execution_count": 16
        }
      ]
    }
  ]
}